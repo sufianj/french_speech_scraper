{
 "cells": [
  {
   "cell_type": "markdown",
   "id": "b545700d-714c-48a8-b05a-dcec638d3f16",
   "metadata": {},
   "source": [
    "# Scraper des Discours\n",
    "\n",
    "This notebook is foreked from:\n",
    "https://github.com/Araxide/french_speech_scraper/blob/master/discours_scraper.py\n",
    "I have updated the calls selenium's find_elements_by* functions.\n",
    "Many thanks!"
   ]
  },
  {
   "cell_type": "code",
   "execution_count": 1,
   "id": "9e08927c-e044-4d7b-93ac-bf73360a87aa",
   "metadata": {},
   "outputs": [
    {
     "name": "stdout",
     "output_type": "stream",
     "text": [
      "Collecting webdriver-manager\n",
      "  Downloading webdriver_manager-3.8.6-py2.py3-none-any.whl (27 kB)\n",
      "Requirement already satisfied: requests in /home/shufan/tools/anacnda3/lib/python3.8/site-packages (from webdriver-manager) (2.28.1)\n",
      "Requirement already satisfied: packaging in /home/shufan/tools/anacnda3/lib/python3.8/site-packages (from webdriver-manager) (22.0)\n",
      "Collecting python-dotenv\n",
      "  Downloading python_dotenv-1.0.0-py3-none-any.whl (19 kB)\n",
      "Requirement already satisfied: tqdm in /home/shufan/tools/anacnda3/lib/python3.8/site-packages (from webdriver-manager) (4.64.1)\n",
      "Requirement already satisfied: certifi>=2017.4.17 in /home/shufan/tools/anacnda3/lib/python3.8/site-packages (from requests->webdriver-manager) (2022.12.7)\n",
      "Requirement already satisfied: idna<4,>=2.5 in /home/shufan/tools/anacnda3/lib/python3.8/site-packages (from requests->webdriver-manager) (3.4)\n",
      "Requirement already satisfied: urllib3<1.27,>=1.21.1 in /home/shufan/tools/anacnda3/lib/python3.8/site-packages (from requests->webdriver-manager) (1.26.14)\n",
      "Requirement already satisfied: charset-normalizer<3,>=2 in /home/shufan/tools/anacnda3/lib/python3.8/site-packages (from requests->webdriver-manager) (2.0.4)\n",
      "Installing collected packages: python-dotenv, webdriver-manager\n",
      "Successfully installed python-dotenv-1.0.0 webdriver-manager-3.8.6\n"
     ]
    }
   ],
   "source": [
    "!pip install webdriver-manager"
   ]
  },
  {
   "cell_type": "code",
   "execution_count": 2,
   "id": "252a1de7-a3a6-45e7-b4e9-eecb662c6961",
   "metadata": {},
   "outputs": [
    {
     "name": "stdout",
     "output_type": "stream",
     "text": [
      "Collecting selenium\n",
      "  Downloading selenium-4.9.0-py3-none-any.whl (6.5 MB)\n",
      "\u001b[2K     \u001b[38;2;114;156;31m━━━━━━━━━━━━━━━━━━━━━━━━━━━━━━━━━━━━━━━━\u001b[0m \u001b[32m6.5/6.5 MB\u001b[0m \u001b[31m14.6 MB/s\u001b[0m eta \u001b[36m0:00:00\u001b[0mm eta \u001b[36m0:00:01\u001b[0m[36m0:00:01\u001b[0m\n",
      "\u001b[?25hCollecting trio~=0.17\n",
      "  Downloading trio-0.22.0-py3-none-any.whl (384 kB)\n",
      "\u001b[2K     \u001b[38;2;114;156;31m━━━━━━━━━━━━━━━━━━━━━━━━━━━━━━━━━━━━━━\u001b[0m \u001b[32m384.9/384.9 kB\u001b[0m \u001b[31m16.1 MB/s\u001b[0m eta \u001b[36m0:00:00\u001b[0m\n",
      "\u001b[?25hCollecting trio-websocket~=0.9\n",
      "  Downloading trio_websocket-0.10.2-py3-none-any.whl (17 kB)\n",
      "Requirement already satisfied: certifi>=2021.10.8 in /home/shufan/tools/anacnda3/lib/python3.8/site-packages (from selenium) (2022.12.7)\n",
      "Requirement already satisfied: urllib3[socks]~=1.26 in /home/shufan/tools/anacnda3/lib/python3.8/site-packages (from selenium) (1.26.14)\n",
      "Requirement already satisfied: sniffio in /home/shufan/tools/anacnda3/lib/python3.8/site-packages (from trio~=0.17->selenium) (1.2.0)\n",
      "Collecting exceptiongroup>=1.0.0rc9\n",
      "  Downloading exceptiongroup-1.1.1-py3-none-any.whl (14 kB)\n",
      "Requirement already satisfied: sortedcontainers in /home/shufan/tools/anacnda3/lib/python3.8/site-packages (from trio~=0.17->selenium) (2.4.0)\n",
      "Requirement already satisfied: idna in /home/shufan/tools/anacnda3/lib/python3.8/site-packages (from trio~=0.17->selenium) (3.4)\n",
      "Collecting async-generator>=1.9\n",
      "  Downloading async_generator-1.10-py3-none-any.whl (18 kB)\n",
      "Collecting outcome\n",
      "  Downloading outcome-1.2.0-py2.py3-none-any.whl (9.7 kB)\n",
      "Requirement already satisfied: attrs>=19.2.0 in /home/shufan/tools/anacnda3/lib/python3.8/site-packages (from trio~=0.17->selenium) (22.1.0)\n",
      "Collecting wsproto>=0.14\n",
      "  Downloading wsproto-1.2.0-py3-none-any.whl (24 kB)\n",
      "Requirement already satisfied: PySocks!=1.5.7,<2.0,>=1.5.6 in /home/shufan/tools/anacnda3/lib/python3.8/site-packages (from urllib3[socks]~=1.26->selenium) (1.7.1)\n",
      "Collecting h11<1,>=0.9.0\n",
      "  Downloading h11-0.14.0-py3-none-any.whl (58 kB)\n",
      "\u001b[2K     \u001b[38;2;114;156;31m━━━━━━━━━━━━━━━━━━━━━━━━━━━━━━━━━━━━━━━━\u001b[0m \u001b[32m58.3/58.3 kB\u001b[0m \u001b[31m6.2 MB/s\u001b[0m eta \u001b[36m0:00:00\u001b[0m\n",
      "\u001b[?25hInstalling collected packages: outcome, h11, exceptiongroup, async-generator, wsproto, trio, trio-websocket, selenium\n",
      "Successfully installed async-generator-1.10 exceptiongroup-1.1.1 h11-0.14.0 outcome-1.2.0 selenium-4.9.0 trio-0.22.0 trio-websocket-0.10.2 wsproto-1.2.0\n"
     ]
    }
   ],
   "source": [
    "!pip install selenium"
   ]
  },
  {
   "cell_type": "code",
   "execution_count": 30,
   "id": "160e6298-ea88-48b5-a789-be6cdccb24a3",
   "metadata": {},
   "outputs": [],
   "source": [
    "import csv\n",
    "from selenium import webdriver\n",
    "from webdriver_manager.chrome import ChromeDriverManager\n",
    "from time import sleep\n",
    "from selenium.webdriver.common.by import By\n"
   ]
  },
  {
   "cell_type": "code",
   "execution_count": 36,
   "id": "dc3214e9-093f-400c-985f-9d4e055398a7",
   "metadata": {},
   "outputs": [],
   "source": [
    "class DiscoursScraper():\n",
    "  \n",
    "    def __init__(self):\n",
    "        self.driver = webdriver.Chrome(ChromeDriverManager().install())\n",
    "        # à changer si tu as des critères de recherche\n",
    "        self.main_page_url = 'https://www.vie-publique.fr/discours/recherche?search_api_fulltext_discours=&sort_by=field_date_prononciation_discour&field_intervenant_title=&field_intervenant_qualite=&field_date_prononciation_discour_interval%5Bmin%5D=&field_date_prononciation_discour_interval%5Bmax%5D=&field_type_emetteur=&field_type_de_document='\n",
    "        self.child_page_url = 'https://www.vie-publique.fr/discours/recherche?search_api_fulltext_discours=&sort_by=field_date_prononciation_discour&field_intervenant_title=&field_intervenant_qualite=&field_date_prononciation_discour_interval%5Bmin%5D=&field_date_prononciation_discour_interval%5Bmax%5D=&field_type_emetteur=&field_type_de_document=&page=1'\n",
    "        # à changer selon vos besoins\n",
    "        self.pages_begin = 1\n",
    "        self.pages_end = 12 #100 \n",
    "\n",
    "    def scrap_speeches_urls(self, page_url):\n",
    "        self.driver.get(page_url)\n",
    "        sleep(3) # wait until all elements have loaded\n",
    "        articles = self.driver.find_elements(By.CSS_SELECTOR, \"h3.fr-card__title > a\")\n",
    "        articles = [article.get_attribute('href') for article in articles]\n",
    "        return articles\n",
    "\n",
    "    def record_speeches_of_page(self, writer, speeches_urls):\n",
    "        for speech_url in speeches_urls:\n",
    "            self.driver.get(speech_url)\n",
    "            try:                \n",
    "                sleep(2) # wait until all elements have loaded\n",
    "                discours = self.driver.find_elements(By.CSS_SELECTOR, \"div.vp-discours-content > div > p\")\n",
    "                discoursText = \"\"\n",
    "                for d in discours:\n",
    "                    discoursText += self.remove_line_breaks(d)\n",
    "                # discours title  \n",
    "                title = self.driver.find_element(By.CSS_SELECTOR, \"h1\")\n",
    "                # discours date\n",
    "                date_discours = self.driver.find_element(By.CSS_SELECTOR, \"time\")\n",
    "                # append row on csv file\n",
    "                writer.writerow({'titre': title.text, 'date': date_discours.text, 'discours': discoursText})\n",
    "            except (NoSuchElementException):\n",
    "                pass #pour l'instant on l'ignore\n",
    "    \n",
    "    def remove_line_breaks(self, element):\n",
    "        element = element.text.replace('\\n', ' ').replace('\\r', '') # remove line breaks in text\n",
    "        return str(element)\n",
    "  \n",
    "    def main(self):\n",
    "        # create csv\n",
    "        with open('scraped_discours.csv', 'a', encoding='utf-8', newline='') as csvfile:\n",
    "            fieldnames = ['titre', 'date', 'discours']\n",
    "            writer = csv.DictWriter(csvfile, fieldnames=fieldnames)\n",
    "            writer.writeheader()\n",
    "            \n",
    "            # scrap first page -- à enlever si on ne commence pas par le page 0\n",
    "            speeches_urls_first_page = self.scrap_speeches_urls(self.main_page_url)\n",
    "            self.record_speeches_of_page(writer, speeches_urls_first_page)      \n",
    "            \n",
    "            # get speeches urls for each next page until reach pages_total\n",
    "            for i in range(self.pages_begin, self.pages_end):\n",
    "                speeches_urls = self.scrap_speeches_urls(self.child_page_url+str(i))\n",
    "                # scrap speech text\n",
    "                self.record_speeches_of_page(writer, speeches_urls)\n",
    "\n",
    "        # end webdriver session    \n",
    "        self.driver.quit()"
   ]
  },
  {
   "cell_type": "code",
   "execution_count": 37,
   "id": "5b5ddca1-3b3e-49dd-ac0e-44862794d900",
   "metadata": {},
   "outputs": [
    {
     "name": "stderr",
     "output_type": "stream",
     "text": [
      "/tmp/ipykernel_316831/3562880954.py:4: DeprecationWarning: executable_path has been deprecated, please pass in a Service object\n",
      "  self.driver = webdriver.Chrome(ChromeDriverManager().install())\n"
     ]
    }
   ],
   "source": [
    "DiscoursScraper().main()"
   ]
  },
  {
   "cell_type": "code",
   "execution_count": null,
   "id": "b1ca8a4c-2502-46f0-a268-44569518e0eb",
   "metadata": {},
   "outputs": [],
   "source": []
  }
 ],
 "metadata": {
  "kernelspec": {
   "display_name": "Python 3 (ipykernel)",
   "language": "python",
   "name": "python3"
  },
  "language_info": {
   "codemirror_mode": {
    "name": "ipython",
    "version": 3
   },
   "file_extension": ".py",
   "mimetype": "text/x-python",
   "name": "python",
   "nbconvert_exporter": "python",
   "pygments_lexer": "ipython3",
   "version": "3.8.16"
  }
 },
 "nbformat": 4,
 "nbformat_minor": 5
}
